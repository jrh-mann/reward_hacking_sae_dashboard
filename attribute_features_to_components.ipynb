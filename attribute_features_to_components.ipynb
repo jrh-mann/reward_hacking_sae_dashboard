{
  "cells": [
    {
      "cell_type": "code",
      "execution_count": 1,
      "metadata": {},
      "outputs": [
        {
          "name": "stderr",
          "output_type": "stream",
          "text": [
            "/root/reward_hacking_sae_dashboard/.venv/lib/python3.12/site-packages/tqdm/auto.py:21: TqdmWarning: IProgress not found. Please update jupyter and ipywidgets. See https://ipywidgets.readthedocs.io/en/stable/user_install.html\n",
            "  from .autonotebook import tqdm as notebook_tqdm\n"
          ]
        }
      ],
      "source": [
        "import os\n",
        "import sys\n",
        "import torch\n",
        "import numpy as np\n",
        "from typing import List, Dict, Tuple, Optional\n",
        "from collections import defaultdict\n",
        "from huggingface_hub import snapshot_download\n",
        "from dictionary_learning.utils import load_dictionary\n",
        "from transformers import AutoTokenizer, AutoModelForCausalLM\n",
        "from nnsight import LanguageModel\n",
        "import json\n"
      ]
    },
    {
      "cell_type": "markdown",
      "metadata": {},
      "source": [
        "## Utility Functions\n"
      ]
    },
    {
      "cell_type": "code",
      "execution_count": 2,
      "metadata": {},
      "outputs": [],
      "source": [
        "def load_sae(layer: int, trainer: int, sae_repo: str = \"andyrdt/saes-gpt-oss-20b\"):\n",
        "    \"\"\"Load SAE for a specific layer.\"\"\"\n",
        "    print(f\"Loading SAE from {sae_repo}...\")\n",
        "    subfolder = f\"resid_post_layer_{layer}/trainer_{trainer}\"\n",
        "    \n",
        "    local_dir = snapshot_download(\n",
        "        repo_id=sae_repo,\n",
        "        allow_patterns=f\"{subfolder}/*\",\n",
        "        local_dir_use_symlinks=False,\n",
        "        cache_dir=None\n",
        "    )\n",
        "    \n",
        "    final_path = os.path.join(local_dir, subfolder)\n",
        "    sae, config = load_dictionary(final_path, device=\"cuda\")\n",
        "    sae.eval()\n",
        "    \n",
        "    print(f\"  SAE loaded: {type(sae).__name__}\")\n",
        "    print(f\"  Encoder shape: {sae.encoder.weight.shape}\")\n",
        "    return sae, config\n",
        "\n",
        "\n",
        "def get_feature_encoders(sae, feature_ids: List[int]) -> torch.Tensor:\n",
        "    \"\"\"\n",
        "    Extract encoder vectors for specific features.\n",
        "    \n",
        "    Returns:\n",
        "        Tensor of shape (num_features, d_model)\n",
        "    \"\"\"\n",
        "    encoder = sae.encoder.weight.detach()  # (n_features, d_model) - keep on CUDA\n",
        "    feature_encoders = encoder[feature_ids]  # (num_features, d_model)\n",
        "    return feature_encoders\n"
      ]
    },
    {
      "cell_type": "markdown",
      "metadata": {},
      "source": [
        "## Weight-Based Attribution\n"
      ]
    },
    {
      "cell_type": "code",
      "execution_count": 11,
      "metadata": {},
      "outputs": [],
      "source": [
        "import nnsight\n",
        "from nnsight import LanguageModel"
      ]
    },
    {
      "cell_type": "code",
      "execution_count": 12,
      "metadata": {},
      "outputs": [],
      "source": [
        "model = LanguageModel(\"openai/gpt-oss-20b\")\n",
        "tokenizer = AutoTokenizer.from_pretrained(\"openai/gpt-oss-20b\")"
      ]
    },
    {
      "cell_type": "code",
      "execution_count": 13,
      "metadata": {},
      "outputs": [
        {
          "name": "stdout",
          "output_type": "stream",
          "text": [
            "Loading SAE from andyrdt/saes-gpt-oss-20b...\n",
            "  SAE loaded: BatchTopKSAE\n",
            "  Encoder shape: torch.Size([131072, 2880])\n"
          ]
        }
      ],
      "source": [
        "sae, config = load_sae(15, 0)\n",
        "feature_encoders = get_feature_encoders(sae, [71990])\n",
        "\n",
        "\n",
        "\n",
        "\n"
      ]
    },
    {
      "cell_type": "markdown",
      "metadata": {},
      "source": [
        "# Backward Attribution: What Writes to a Direction?\n",
        "\n",
        "This notebook traces **backwards from layer 24** to see which components (attention heads, MLPs) write to a specific direction at each layer.\n",
        "\n",
        "## The Key Idea\n",
        "\n",
        "At each layer L:\n",
        "```\n",
        "residual[L] = residual[L-1] + attn[L] + mlp[L]\n",
        "```\n",
        "\n",
        "We can attribute our direction `d` by computing:\n",
        "- `contribution_from_attn = d · attn[L]`\n",
        "- `contribution_from_mlp = d · mlp[L]`\n",
        "- `contribution_from_prev = d · residual[L-1]`\n",
        "\n",
        "Going backwards tells us **where the direction is built up** across the network.\n"
      ]
    },
    {
      "cell_type": "markdown",
      "metadata": {},
      "source": [
        "## Step 1: Define Your Direction Vector\n",
        "\n",
        "You can use:\n",
        "- An SAE feature encoder (like we loaded above)\n",
        "- A steering vector\n",
        "- Any custom direction of shape `[d_model]`\n"
      ]
    },
    {
      "cell_type": "code",
      "execution_count": 16,
      "metadata": {},
      "outputs": [
        {
          "name": "stdout",
          "output_type": "stream",
          "text": [
            "Direction shape: torch.Size([2880])\n",
            "Direction norm: 1.1584\n"
          ]
        }
      ],
      "source": [
        "# Option 1: Use an SAE feature encoder as your direction\n",
        "direction = feature_encoders[0]  # Shape: [d_model]\n",
        "direction = direction.cuda()\n",
        "\n",
        "# Option 2: Load a steering vector\n",
        "# steering_vectors = torch.load(\"steering_vectors.pt\")\n",
        "# direction = steering_vectors[15].cuda()\n",
        "\n",
        "# Option 3: Use a custom direction\n",
        "# direction = torch.randn(2880).cuda()  # d_model for GPT-OSS-20B is 2880\n",
        "\n",
        "print(f\"Direction shape: {direction.shape}\")\n",
        "print(f\"Direction norm: {direction.norm():.4f}\")\n"
      ]
    },
    {
      "cell_type": "markdown",
      "metadata": {},
      "source": [
        "## Step 2: Define Your Text Prompt\n",
        "\n",
        "We need to run text through the model to see what components write.\n"
      ]
    },
    {
      "cell_type": "code",
      "execution_count": 17,
      "metadata": {},
      "outputs": [
        {
          "name": "stdout",
          "output_type": "stream",
          "text": [
            "Text: The quick brown fox jumps over the lazy dog\n",
            "Tokens: [976, 4853, 19705, 68347, 65613, 1072, 290, 29082, 6446]\n",
            "Num tokens: 9\n"
          ]
        }
      ],
      "source": [
        "text = \"The quick brown fox jumps over the lazy dog\"\n",
        "# text = \"Your custom text here\"\n",
        "\n",
        "tokens = tokenizer.encode(text)\n",
        "print(f\"Text: {text}\")\n",
        "print(f\"Tokens: {tokens}\")\n",
        "print(f\"Num tokens: {len(tokens)}\")\n"
      ]
    },
    {
      "cell_type": "markdown",
      "metadata": {},
      "source": [
        "## Step 3: Attribution Function\n",
        "\n",
        "This function takes a layer number and returns what writes to the direction at that layer.\n"
      ]
    },
    {
      "cell_type": "code",
      "execution_count": 20,
      "metadata": {},
      "outputs": [
        {
          "data": {
            "text/plain": [
              "GptOssForCausalLM(\n",
              "  (model): GptOssModel(\n",
              "    (embed_tokens): Embedding(201088, 2880, padding_idx=199999)\n",
              "    (layers): ModuleList(\n",
              "      (0-23): 24 x GptOssDecoderLayer(\n",
              "        (self_attn): GptOssAttention(\n",
              "          (q_proj): Linear(in_features=2880, out_features=4096, bias=True)\n",
              "          (k_proj): Linear(in_features=2880, out_features=512, bias=True)\n",
              "          (v_proj): Linear(in_features=2880, out_features=512, bias=True)\n",
              "          (o_proj): Linear(in_features=4096, out_features=2880, bias=True)\n",
              "        )\n",
              "        (mlp): GptOssMLP(\n",
              "          (router): GptOssTopKRouter()\n",
              "          (experts): GptOssExperts()\n",
              "        )\n",
              "        (input_layernorm): GptOssRMSNorm((2880,), eps=1e-05)\n",
              "        (post_attention_layernorm): GptOssRMSNorm((2880,), eps=1e-05)\n",
              "      )\n",
              "    )\n",
              "    (norm): GptOssRMSNorm((2880,), eps=1e-05)\n",
              "    (rotary_emb): GptOssRotaryEmbedding()\n",
              "  )\n",
              "  (lm_head): Linear(in_features=2880, out_features=201088, bias=False)\n",
              "  (generator): WrapperModule()\n",
              ")"
            ]
          },
          "execution_count": 20,
          "metadata": {},
          "output_type": "execute_result"
        }
      ],
      "source": [
        "model"
      ]
    },
    {
      "cell_type": "markdown",
      "metadata": {},
      "source": [
        "## Step 4: Test on a Single Layer\n",
        "\n",
        "Let's first test on one layer to see how it works.\n"
      ]
    },
    {
      "cell_type": "code",
      "execution_count": 19,
      "metadata": {},
      "outputs": [
        {
          "ename": "ValueError",
          "evalue": "Could not find layers in model",
          "output_type": "error",
          "traceback": [
            "\u001b[31m---------------------------------------------------------------------------\u001b[39m",
            "\u001b[31mValueError\u001b[39m                                Traceback (most recent call last)",
            "\u001b[36mCell\u001b[39m\u001b[36m \u001b[39m\u001b[32mIn[19]\u001b[39m\u001b[32m, line 2\u001b[39m\n\u001b[32m      1\u001b[39m \u001b[38;5;66;03m# Test on layer 15\u001b[39;00m\n\u001b[32m----> \u001b[39m\u001b[32m2\u001b[39m results = \u001b[43mattribute_at_layer\u001b[49m\u001b[43m(\u001b[49m\u001b[43mmodel\u001b[49m\u001b[43m,\u001b[49m\u001b[43m \u001b[49m\u001b[43mtext\u001b[49m\u001b[43m,\u001b[49m\u001b[43m \u001b[49m\u001b[43mlayer_idx\u001b[49m\u001b[43m=\u001b[49m\u001b[32;43m15\u001b[39;49m\u001b[43m,\u001b[49m\u001b[43m \u001b[49m\u001b[43mdirection\u001b[49m\u001b[43m=\u001b[49m\u001b[43mdirection\u001b[49m\u001b[43m)\u001b[49m\n\u001b[32m      4\u001b[39m \u001b[38;5;28mprint\u001b[39m(\u001b[33mf\u001b[39m\u001b[33m\"\u001b[39m\u001b[38;5;130;01m\\n\u001b[39;00m\u001b[38;5;132;01m{\u001b[39;00m\u001b[33m'\u001b[39m\u001b[33m=\u001b[39m\u001b[33m'\u001b[39m*\u001b[32m60\u001b[39m\u001b[38;5;132;01m}\u001b[39;00m\u001b[33m\"\u001b[39m)\n\u001b[32m      5\u001b[39m \u001b[38;5;28mprint\u001b[39m(\u001b[33mf\u001b[39m\u001b[33m\"\u001b[39m\u001b[33mLAYER 15 - Component Contributions\u001b[39m\u001b[33m\"\u001b[39m)\n",
            "\u001b[36mCell\u001b[39m\u001b[36m \u001b[39m\u001b[32mIn[18]\u001b[39m\u001b[32m, line 17\u001b[39m, in \u001b[36mattribute_at_layer\u001b[39m\u001b[34m(model, text, layer_idx, direction, decompose_heads)\u001b[39m\n\u001b[32m      2\u001b[39m \u001b[38;5;250m\u001b[39m\u001b[33;03m\"\"\"\u001b[39;00m\n\u001b[32m      3\u001b[39m \u001b[33;03mAttribute a direction to components at a specific layer.\u001b[39;00m\n\u001b[32m      4\u001b[39m \n\u001b[32m   (...)\u001b[39m\u001b[32m     13\u001b[39m \u001b[33;03m    Dictionary with contributions from each component\u001b[39;00m\n\u001b[32m     14\u001b[39m \u001b[33;03m\"\"\"\u001b[39;00m\n\u001b[32m     16\u001b[39m \u001b[38;5;28;01mwith\u001b[39;00m torch.no_grad():\n\u001b[32m---> \u001b[39m\u001b[32m17\u001b[39m \u001b[43m    \u001b[49m\u001b[38;5;28;43;01mwith\u001b[39;49;00m\u001b[43m \u001b[49m\u001b[43mmodel\u001b[49m\u001b[43m.\u001b[49m\u001b[43mtrace\u001b[49m\u001b[43m(\u001b[49m\u001b[43mtext\u001b[49m\u001b[43m,\u001b[49m\u001b[43m \u001b[49m\u001b[43mscan\u001b[49m\u001b[43m=\u001b[49m\u001b[38;5;28;43;01mFalse\u001b[39;49;00m\u001b[43m)\u001b[49m\u001b[43m:\u001b[49m\n\u001b[32m     18\u001b[39m \u001b[43m        \u001b[49m\u001b[38;5;66;43;03m# Access the transformer layers\u001b[39;49;00m\n\u001b[32m     19\u001b[39m \u001b[43m        \u001b[49m\u001b[38;5;28;43;01mif\u001b[39;49;00m\u001b[43m \u001b[49m\u001b[38;5;28;43mhasattr\u001b[39;49m\u001b[43m(\u001b[49m\u001b[43mmodel\u001b[49m\u001b[43m.\u001b[49m\u001b[43mmodel\u001b[49m\u001b[43m,\u001b[49m\u001b[43m \u001b[49m\u001b[33;43m'\u001b[39;49m\u001b[33;43mtransformer\u001b[39;49m\u001b[33;43m'\u001b[39;49m\u001b[43m)\u001b[49m\u001b[43m:\u001b[49m\n\u001b[32m     20\u001b[39m \u001b[43m            \u001b[49m\u001b[43mlayers\u001b[49m\u001b[43m \u001b[49m\u001b[43m=\u001b[49m\u001b[43m \u001b[49m\u001b[43mmodel\u001b[49m\u001b[43m.\u001b[49m\u001b[43mmodel\u001b[49m\u001b[43m.\u001b[49m\u001b[43mtransformer\u001b[49m\u001b[43m.\u001b[49m\u001b[43mh\u001b[49m\n",
            "\u001b[36mFile \u001b[39m\u001b[32m~/reward_hacking_sae_dashboard/.venv/lib/python3.12/site-packages/nnsight/contexts/Tracer.py:102\u001b[39m, in \u001b[36mTracer.__exit__\u001b[39m\u001b[34m(self, exc_type, exc_val, exc_tb)\u001b[39m\n\u001b[32m     97\u001b[39m     \u001b[38;5;28mself\u001b[39m.invoker.\u001b[34m__exit__\u001b[39m(\u001b[38;5;28;01mNone\u001b[39;00m, \u001b[38;5;28;01mNone\u001b[39;00m, \u001b[38;5;28;01mNone\u001b[39;00m)\n\u001b[32m     99\u001b[39m \u001b[38;5;28mself\u001b[39m.model._envoy._reset()\n\u001b[32m--> \u001b[39m\u001b[32m102\u001b[39m \u001b[38;5;28;43msuper\u001b[39;49m\u001b[43m(\u001b[49m\u001b[43m)\u001b[49m\u001b[43m.\u001b[49m\u001b[34;43m__exit__\u001b[39;49m\u001b[43m(\u001b[49m\u001b[43mexc_type\u001b[49m\u001b[43m,\u001b[49m\u001b[43m \u001b[49m\u001b[43mexc_val\u001b[49m\u001b[43m,\u001b[49m\u001b[43m \u001b[49m\u001b[43mexc_tb\u001b[49m\u001b[43m)\u001b[49m\n",
            "\u001b[36mFile \u001b[39m\u001b[32m~/reward_hacking_sae_dashboard/.venv/lib/python3.12/site-packages/nnsight/contexts/GraphBasedContext.py:215\u001b[39m, in \u001b[36mGraphBasedContext.__exit__\u001b[39m\u001b[34m(self, exc_type, exc_val, exc_tb)\u001b[39m\n\u001b[32m    213\u001b[39m     \u001b[38;5;28mself\u001b[39m.graph.alive = \u001b[38;5;28;01mFalse\u001b[39;00m\n\u001b[32m    214\u001b[39m     \u001b[38;5;28mself\u001b[39m.graph = \u001b[38;5;28;01mNone\u001b[39;00m\n\u001b[32m--> \u001b[39m\u001b[32m215\u001b[39m     \u001b[38;5;28;01mraise\u001b[39;00m exc_val\n\u001b[32m    217\u001b[39m \u001b[38;5;28mself\u001b[39m.backend(\u001b[38;5;28mself\u001b[39m)\n",
            "\u001b[36mCell\u001b[39m\u001b[36m \u001b[39m\u001b[32mIn[18]\u001b[39m\u001b[32m, line 24\u001b[39m, in \u001b[36mattribute_at_layer\u001b[39m\u001b[34m(model, text, layer_idx, direction, decompose_heads)\u001b[39m\n\u001b[32m     22\u001b[39m     layers = model.model.model.layers\n\u001b[32m     23\u001b[39m \u001b[38;5;28;01melse\u001b[39;00m:\n\u001b[32m---> \u001b[39m\u001b[32m24\u001b[39m     \u001b[38;5;28;01mraise\u001b[39;00m \u001b[38;5;167;01mValueError\u001b[39;00m(\u001b[33m\"\u001b[39m\u001b[33mCould not find layers in model\u001b[39m\u001b[33m\"\u001b[39m)\n\u001b[32m     26\u001b[39m target_layer = layers[layer_idx]\n\u001b[32m     28\u001b[39m \u001b[38;5;66;03m# 1. Residual stream BEFORE this layer (input to layer)\u001b[39;00m\n",
            "\u001b[31mValueError\u001b[39m: Could not find layers in model"
          ]
        }
      ],
      "source": [
        "# Test on layer 15\n",
        "results = attribute_at_layer(model, text, layer_idx=15, direction=direction)\n",
        "\n",
        "print(f\"\\n{'='*60}\")\n",
        "print(f\"LAYER 15 - Component Contributions\")\n",
        "print(f\"{'='*60}\")\n",
        "\n",
        "for component, stats in results['contributions'].items():\n",
        "    print(f\"\\n{component.upper()}:\")\n",
        "    print(f\"  Mean: {stats['mean']:8.4f}\")\n",
        "    print(f\"  Std:  {stats['std']:8.4f}\")\n",
        "    print(f\"  Max:  {stats['max']:8.4f}\")\n",
        "    print(f\"  Min:  {stats['min']:8.4f}\")\n",
        "\n",
        "print(f\"\\n{'='*60}\")\n",
        "print(f\"Per-Token Breakdown (first 5 tokens):\")\n",
        "print(f\"{'='*60}\")\n",
        "for pos in range(min(5, len(results['per_token']))):\n",
        "    token_data = results['per_token'][pos]\n",
        "    token_text = tokenizer.decode([tokens[pos]])\n",
        "    print(f\"\\nToken {pos} ('{token_text}'):\")\n",
        "    print(f\"  Previous layers: {token_data['previous_layers']:8.4f}\")\n",
        "    print(f\"  Attention:       {token_data['attention']:8.4f}\")\n",
        "    print(f\"  MLP:             {token_data['mlp']:8.4f}\")\n",
        "    print(f\"  Total:           {token_data['total']:8.4f}\")\n",
        "    print(f\"  Sum check:       {token_data['verification_sum']:8.4f}\")\n"
      ]
    },
    {
      "cell_type": "markdown",
      "metadata": {},
      "source": [
        "\n"
      ]
    },
    {
      "cell_type": "markdown",
      "metadata": {},
      "source": [
        "## Step 6: Visualize Results\n",
        "\n",
        "Let's create a summary table showing what writes to the direction at each layer.\n"
      ]
    },
    {
      "cell_type": "code",
      "execution_count": null,
      "metadata": {},
      "outputs": [
        {
          "ename": "NameError",
          "evalue": "name 'all_layer_results' is not defined",
          "output_type": "error",
          "traceback": [
            "\u001b[31m---------------------------------------------------------------------------\u001b[39m",
            "\u001b[31mNameError\u001b[39m                                 Traceback (most recent call last)",
            "\u001b[36mCell\u001b[39m\u001b[36m \u001b[39m\u001b[32mIn[22]\u001b[39m\u001b[32m, line 6\u001b[39m\n\u001b[32m      3\u001b[39m \u001b[38;5;66;03m# Create summary dataframe\u001b[39;00m\n\u001b[32m      4\u001b[39m summary_data = []\n\u001b[32m----> \u001b[39m\u001b[32m6\u001b[39m \u001b[38;5;28;01mfor\u001b[39;00m layer_idx \u001b[38;5;129;01min\u001b[39;00m \u001b[38;5;28mrange\u001b[39m(\u001b[38;5;28mlen\u001b[39m(\u001b[43mall_layer_results\u001b[49m)):\n\u001b[32m      7\u001b[39m     result = all_layer_results[layer_idx]\n\u001b[32m      8\u001b[39m     summary_data.append({\n\u001b[32m      9\u001b[39m         \u001b[33m'\u001b[39m\u001b[33mLayer\u001b[39m\u001b[33m'\u001b[39m: layer_idx,\n\u001b[32m     10\u001b[39m         \u001b[33m'\u001b[39m\u001b[33mAttn_Mean\u001b[39m\u001b[33m'\u001b[39m: result[\u001b[33m'\u001b[39m\u001b[33mcontributions\u001b[39m\u001b[33m'\u001b[39m][\u001b[33m'\u001b[39m\u001b[33mattention\u001b[39m\u001b[33m'\u001b[39m][\u001b[33m'\u001b[39m\u001b[33mmean\u001b[39m\u001b[33m'\u001b[39m],\n\u001b[32m   (...)\u001b[39m\u001b[32m     14\u001b[39m         \u001b[33m'\u001b[39m\u001b[33mPrev_Mean\u001b[39m\u001b[33m'\u001b[39m: result[\u001b[33m'\u001b[39m\u001b[33mcontributions\u001b[39m\u001b[33m'\u001b[39m][\u001b[33m'\u001b[39m\u001b[33mprevious_layers\u001b[39m\u001b[33m'\u001b[39m][\u001b[33m'\u001b[39m\u001b[33mmean\u001b[39m\u001b[33m'\u001b[39m],\n\u001b[32m     15\u001b[39m     })\n",
            "\u001b[31mNameError\u001b[39m: name 'all_layer_results' is not defined"
          ]
        }
      ],
      "source": [
        "\n"
      ]
    },
    {
      "cell_type": "markdown",
      "metadata": {},
      "source": [
        "\n"
      ]
    },
    {
      "cell_type": "code",
      "execution_count": null,
      "metadata": {},
      "outputs": [
        {
          "ename": "NameError",
          "evalue": "name 'df' is not defined",
          "output_type": "error",
          "traceback": [
            "\u001b[31m---------------------------------------------------------------------------\u001b[39m",
            "\u001b[31mNameError\u001b[39m                                 Traceback (most recent call last)",
            "\u001b[36mCell\u001b[39m\u001b[36m \u001b[39m\u001b[32mIn[23]\u001b[39m\u001b[32m, line 5\u001b[39m\n\u001b[32m      1\u001b[39m \u001b[38;5;28;01mimport\u001b[39;00m\u001b[38;5;250m \u001b[39m\u001b[34;01mmatplotlib\u001b[39;00m\u001b[34;01m.\u001b[39;00m\u001b[34;01mpyplot\u001b[39;00m\u001b[38;5;250m \u001b[39m\u001b[38;5;28;01mas\u001b[39;00m\u001b[38;5;250m \u001b[39m\u001b[34;01mplt\u001b[39;00m\n\u001b[32m      3\u001b[39m fig, (ax1, ax2) = plt.subplots(\u001b[32m2\u001b[39m, \u001b[32m1\u001b[39m, figsize=(\u001b[32m14\u001b[39m, \u001b[32m10\u001b[39m))\n\u001b[32m----> \u001b[39m\u001b[32m5\u001b[39m layers = \u001b[43mdf\u001b[49m[\u001b[33m'\u001b[39m\u001b[33mLayer\u001b[39m\u001b[33m'\u001b[39m].values\n\u001b[32m      7\u001b[39m \u001b[38;5;66;03m# Plot 1: Mean contributions\u001b[39;00m\n\u001b[32m      8\u001b[39m ax1.plot(layers, df[\u001b[33m'\u001b[39m\u001b[33mAttn_Mean\u001b[39m\u001b[33m'\u001b[39m], marker=\u001b[33m'\u001b[39m\u001b[33mo\u001b[39m\u001b[33m'\u001b[39m, label=\u001b[33m'\u001b[39m\u001b[33mAttention\u001b[39m\u001b[33m'\u001b[39m, linewidth=\u001b[32m2\u001b[39m, markersize=\u001b[32m5\u001b[39m, color=\u001b[33m'\u001b[39m\u001b[33m#2E86AB\u001b[39m\u001b[33m'\u001b[39m)\n",
            "\u001b[31mNameError\u001b[39m: name 'df' is not defined"
          ]
        },
        {
          "data": {
            "image/png": "[encoded data removed]",
            "text/plain": [
              "<Figure size 1400x1000 with 2 Axes>"
            ]
          },
          "metadata": {},
          "output_type": "display_data"
        }
      ],
      "source": [
        "\n"
      ]
    },
    {
      "cell_type": "markdown",
      "metadata": {},
      "source": [
        "\n"
      ]
    },
    {
      "cell_type": "code",
      "execution_count": null,
      "metadata": {},
      "outputs": [
        {
          "name": "stdout",
          "output_type": "stream",
          "text": [
            "Head attribution function defined!\n"
          ]
        }
      ],
      "source": [
        "\n"
      ]
    },
    {
      "cell_type": "markdown",
      "metadata": {},
      "source": [
        "\n"
      ]
    },
    {
      "cell_type": "code",
      "execution_count": null,
      "metadata": {},
      "outputs": [],
      "source": [
        "\n"
      ]
    },
    {
      "cell_type": "markdown",
      "metadata": {},
      "source": [
        "\n"
      ]
    },
    {
      "cell_type": "code",
      "execution_count": 25,
      "metadata": {},
      "outputs": [
        {
          "ename": "NameError",
          "evalue": "name 'all_layer_results' is not defined",
          "output_type": "error",
          "traceback": [
            "\u001b[31m---------------------------------------------------------------------------\u001b[39m",
            "\u001b[31mNameError\u001b[39m                                 Traceback (most recent call last)",
            "\u001b[36mCell\u001b[39m\u001b[36m \u001b[39m\u001b[32mIn[25]\u001b[39m\u001b[32m, line 8\u001b[39m\n\u001b[32m      1\u001b[39m \u001b[38;5;66;03m# Save results to JSON\u001b[39;00m\n\u001b[32m      2\u001b[39m output_data = {\n\u001b[32m      3\u001b[39m     \u001b[33m'\u001b[39m\u001b[33mtext\u001b[39m\u001b[33m'\u001b[39m: text,\n\u001b[32m      4\u001b[39m     \u001b[33m'\u001b[39m\u001b[33mdirection_norm\u001b[39m\u001b[33m'\u001b[39m: \u001b[38;5;28mfloat\u001b[39m(direction.norm().cpu()),\n\u001b[32m      5\u001b[39m     \u001b[33m'\u001b[39m\u001b[33mlayers\u001b[39m\u001b[33m'\u001b[39m: {}\n\u001b[32m      6\u001b[39m }\n\u001b[32m----> \u001b[39m\u001b[32m8\u001b[39m \u001b[38;5;28;01mfor\u001b[39;00m layer_idx, result \u001b[38;5;129;01min\u001b[39;00m \u001b[43mall_layer_results\u001b[49m.items():\n\u001b[32m      9\u001b[39m     output_data[\u001b[33m'\u001b[39m\u001b[33mlayers\u001b[39m\u001b[33m'\u001b[39m][layer_idx] = result\n\u001b[32m     11\u001b[39m \u001b[38;5;28;01mwith\u001b[39;00m \u001b[38;5;28mopen\u001b[39m(\u001b[33m'\u001b[39m\u001b[33mattribution_results.json\u001b[39m\u001b[33m'\u001b[39m, \u001b[33m'\u001b[39m\u001b[33mw\u001b[39m\u001b[33m'\u001b[39m) \u001b[38;5;28;01mas\u001b[39;00m f:\n",
            "\u001b[31mNameError\u001b[39m: name 'all_layer_results' is not defined"
          ]
        }
      ],
      "source": [
        "# Save results to JSON\n",
        "output_data = {\n",
        "    'text': text,\n",
        "    'direction_norm': float(direction.norm().cpu()),\n",
        "    'layers': {}\n",
        "}\n",
        "\n",
        "for layer_idx, result in all_layer_results.items():\n",
        "    output_data['layers'][layer_idx] = result\n",
        "\n",
        "with open('attribution_results.json', 'w') as f:\n",
        "    json.dump(output_data, f, indent=2)\n",
        "\n",
        "print(\"Results saved to: attribution_results.json\")\n",
        "print(f\"\\nAnalyzed {len(all_layer_results)} layers\")\n",
        "print(f\"Text: {text}\")\n"
      ]
    },
    {
      "cell_type": "markdown",
      "metadata": {},
      "source": [
        "\n"
      ]
    },
    {
      "cell_type": "code",
      "execution_count": null,
      "metadata": {},
      "outputs": [],
      "source": [
        "\n"
      ]
    },
    {
      "cell_type": "markdown",
      "metadata": {},
      "source": [
        "\n"
      ]
    },
    {
      "cell_type": "code",
      "execution_count": null,
      "metadata": {},
      "outputs": [],
      "source": []
    }
  ],
  "metadata": {
    "kernelspec": {
      "display_name": ".venv",
      "language": "python",
      "name": "python3"
    },
    "language_info": {
      "codemirror_mode": {
        "name": "ipython",
        "version": 3
      },
      "file_extension": ".py",
      "mimetype": "text/x-python",
      "name": "python",
      "nbconvert_exporter": "python",
      "pygments_lexer": "ipython3",
      "version": "3.12.3"
    }
  },
  "nbformat": 4,
  "nbformat_minor": 2
}
